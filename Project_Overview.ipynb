{
 "cells": [
  {
   "cell_type": "markdown",
   "id": "1e4c9294-ea17-470e-b62c-e51134e372f5",
   "metadata": {
    "tags": []
   },
   "source": [
    "# HCDE 410: Final Project\n",
    "### Lunden Harris Spring 2022\n",
    "\n",
    "# _Kentucky High School Graduation Rates Compared to State Educational Funding per County_\n",
    "\n",
    "## Introduction\n",
    "\n",
    "Being a proud Kentuckian, born and raised for eighteen years of my life, Kentucky holds a strong spot in my heart. I really am passionate about the state, its people, and all the beauty it has to offer to the world. That being said, Kentucky is ranked 47th in Bachelor Degrees. Even though in the past decade Kentucky’s educational and economic status has improved, from 2009-2013 only 22% of Kentuckians hold a Bachelor’s degree. That being said 83% of Kentuckians do have a high school diploma. What is causing this drop off? I went to a private school in Kentucky that heavily pushed for high enrollments in college and it was more common to go to college than not. This is a private school that prides itself on this and as students who are paying for this education, we are expecting to move on to college or achieve higher education. What’s the disconnect between private and public?\n",
    "\n",
    "For my final project I want to discover if state funding per county impacts the rates of high school graduation. I wanted to look into higher education but there was little to no public data on college graduation rates. This is because colleges are open to anyone - you don't have to be from Kentucky or even live there to get a BS degree. This would skew my data and have inconclusive results. Therefore, I decided to focus on High School Funding and graduation rates in Kentucky from 2018-2019.\n",
    "\n",
    "## Background or Related Work\n",
    " \n",
    " \n",
    " \n",
    " \n",
    " \n",
    " \n",
    " \n",
    " \n",
    " \n",
    " \n",
    " \n",
    " \n",
    "## Research Questions\n",
    "\n",
    "- What is the rate of highschool graduates per county in Kentucky compared to the amount of public funding granted to each county?\n",
    "- Do counties with less students get less funding? Vise versa?\n",
    "- Do counties with less funding have lower high school graduation rates?\n",
    "- What is the criteria for funding amounts?\n",
    "- How much educational funding does Kentucky get as a state?\n",
    "\n",
    "**Hypothesis:** Kentucky counties with lower amounts of educational funding have lower rates of high school graduates compared to counties with more funding.\n",
    "\n",
    "## Methodology\n",
    "First, I Googled Kentucky public educational funding per county and pulled only schools that were labeled as ‘High School’.\n",
    "\n",
    "## Findings\n",
    "\n",
    "## Discussion (including Limitations and Implications)\n",
    "\n",
    "## Conclusion\n",
    "\n",
    "\n",
    "\n",
    "\n",
    "\n",
    "\n",
    "## References\n",
    "This section is optional. You must cite your references, but if you do so entirely using links in the text of your report, this section may be unnecessary. However, even if you use descriptive links in your text, you may use this section to emphasize or comment upon especially important references, or references that didn't fit into the text.\n",
    "\n",
    "\n",
    "\n",
    "\n",
    "\n",
    "\n",
    "\n",
    "\n",
    "\n",
    "\n",
    "\n",
    "\n"
   ]
  },
  {
   "cell_type": "code",
   "execution_count": null,
   "id": "15227a15-08b2-4720-a563-7d51d169cb5d",
   "metadata": {},
   "outputs": [],
   "source": []
  }
 ],
 "metadata": {
  "kernelspec": {
   "display_name": "Python 3 (ipykernel)",
   "language": "python",
   "name": "python3"
  },
  "language_info": {
   "codemirror_mode": {
    "name": "ipython",
    "version": 3
   },
   "file_extension": ".py",
   "mimetype": "text/x-python",
   "name": "python",
   "nbconvert_exporter": "python",
   "pygments_lexer": "ipython3",
   "version": "3.9.7"
  }
 },
 "nbformat": 4,
 "nbformat_minor": 5
}
