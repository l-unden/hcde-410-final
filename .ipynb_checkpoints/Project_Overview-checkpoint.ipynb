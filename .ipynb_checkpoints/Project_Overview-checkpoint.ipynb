{
 "cells": [
  {
   "cell_type": "markdown",
   "id": "1e4c9294-ea17-470e-b62c-e51134e372f5",
   "metadata": {
    "tags": []
   },
   "source": [
    "# HCDE 410: Final Project\n",
    "### Lunden Harris Spring 2022\n",
    "\n",
    "# _Kentucky High School Graduation Rates Compared to State Educational Funding per County_\n",
    "\n",
    "## Introduction\n",
    "\n",
    "Being a proud Kentuckian, born and raised for eighteen years of my life, Kentucky holds a strong spot in my heart. I really am passionate about the state, its people, and all the beauty it has to offer to the world. That being said, Kentucky is ranked 47th in Bachelor Degrees. Even though in the past decade Kentucky’s educational and economic status has improved, from 2009-2013 only 22% of Kentuckians hold a Bachelor’s degree. That being said 83% of Kentuckians do have a high school diploma. What is causing this drop off? I went to a private school in Kentucky that heavily pushed for high enrollments in college and it was more common to go to college than not. This is a private school that prides itself on this and as students who are paying for this education, we are expecting to move on to college or achieve higher education. What’s the disconnect between private and public?\n",
    "\n",
    "For my final project I want to discover if state funding per county impacts the rates of high school graduation. I wanted to look into higher education but there was little to no public data on college graduation rates. This is because colleges are open to anyone - you don't have to be from Kentucky or even live there to get a BS degree. This would skew my data and have inconclusive results. Therefore, I decided to focus on High School Funding and graduation rates in Kentucky from 2018-2019.\n",
    "\n",
    "## Background or Related Work\n",
    "\n",
    "There was a study done in 2015 by the University of Kentucky's research team named Community and Economic Development Intiative of Kentucky (CEDIK)called [Education: Where does Kentucky rank & why does it matter?](https://cedikentucky.wordpress.com/2015/09/08/education-where-does-kentucky-rank-why-does-it-matter/)\n",
    "Here, Research Associate Simona Balazs looked into visualizing the potential link between education level and income. It is important to note that 'a county's education level is \\[not\\] the only factor imapcting per captita income' but wants to reveal or suggest that higher education attainment means increased income.\n",
    "\n",
    "I thought the visualizations in this study where very helpful for understanding my data, where I want to take my project, and what my findings will mean. The study was expalined and visualized great as well as had a clear reference section.\n",
    "\n",
    "#### Visualizations by CEDIK\n",
    "\n",
    "![Kentucky Adults with BS Degree or More and Per Capita Income](KY_BS_Degree_by_County.png)\n",
    "\n",
    "![Kentucky Unemployment Rate and Average Annual Earnings](KY_Unemply_Rate_Avg_Income.png)\n",
    " \n",
    "## Research Questions\n",
    "\n",
    "- What is the rate of highschool graduates per county in Kentucky compared to the amount of public funding granted to each county?\n",
    "- Do counties with less students get less funding? Vise versa?\n",
    "- Do counties with less funding have lower high school graduation rates?\n",
    "- What is the criteria for funding amounts?\n",
    "- How much educational funding does Kentucky get as a state?\n",
    "\n",
    "### Hypothesis\n",
    "_Kentucky counties with lower amounts of educational funding have lower rates of high school graduates compared to counties with more funding._\n",
    "\n",
    "## Methodology\n",
    "First, I Googled Kentucky public educational funding per county and pulled only schools that were labeled as ‘High School’.\n",
    "\n",
    "#### Data \n",
    "\n",
    "[2019-2020 Kentucky District Funding for Schools per County](KY_19-20_District_State_Grant.csv)\n",
    "\n",
    "[2019-2020 Kentucky High School Graduation Rates](KY_GRADUATION_RATE.csv)\n",
    "\n",
    "## Findings\n",
    "\n",
    "\n",
    "\n",
    "## Discussion \n",
    "\n",
    "#### Implications\n",
    "\n",
    "#### Limitations\n",
    "Data for Kentucky county funding only had separation from Preschool and School. I am assuming school meant K-12. I was unable to pull just high school funding per county. This skewed my results but still represented totally education system funidng for the county so results can still draw some conclusion. If I were to go deeper into this project, I would try to separate different levels of schooling funding. I would also look into different demographics like race and income of each county and pull conclusions from there.\n",
    "\n",
    "## Conclusion\n"
   ]
  },
  {
   "cell_type": "code",
   "execution_count": null,
   "id": "15227a15-08b2-4720-a563-7d51d169cb5d",
   "metadata": {},
   "outputs": [],
   "source": []
  }
 ],
 "metadata": {
  "kernelspec": {
   "display_name": "Python 3 (ipykernel)",
   "language": "python",
   "name": "python3"
  },
  "language_info": {
   "codemirror_mode": {
    "name": "ipython",
    "version": 3
   },
   "file_extension": ".py",
   "mimetype": "text/x-python",
   "name": "python",
   "nbconvert_exporter": "python",
   "pygments_lexer": "ipython3",
   "version": "3.9.7"
  }
 },
 "nbformat": 4,
 "nbformat_minor": 5
}
