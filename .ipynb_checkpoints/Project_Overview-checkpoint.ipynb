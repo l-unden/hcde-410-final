{
 "cells": [
  {
   "cell_type": "markdown",
   "id": "1e4c9294-ea17-470e-b62c-e51134e372f5",
   "metadata": {},
   "source": [
    "# Motivation and problem statement:\n",
    "**Why are you planning to do this analysis?** \n",
    "    * I am planning on comparing the amount of black people who live in Kentucky to the level of education they have achieved (high school, bs, or higher) I then want to compare this to where people went to school or the demographics of schools in different areas. There are a lot of private schools in KY but I am still undecided and unsure where the data will take me. Thinking of potentially looking into jobs or comparing rates across racial or sex demographics... might compare Kentucky education and race demographics to Washington demographics! I think this could be interesting because of how different these places are viewed not just location, but income, culture, and racial demographics. I have a feeling they will have similar black education stats to Kentucky.\n",
    "**Why is it potentially interesting and useful, from a scientific, practical, and/or human-centered perspective?**\n",
    "    * This is an area of interest and passion for me especially as someone who identifies as a black Kentuckian. I also think it gives a more human-centered perspective into education access and then careers of consistent access to ‘medium’ to ‘high’ income in the state.\n",
    "**What do you hope to learn?** \n",
    "    * I want to shed light on the education system in Kentucky and who it is failing or succeeding for (why are we ranked 45th in the nation?). A lot of schools in the bigger cities are private and cost a lot of money but their demographics are mostly non-BIPOC people. How does this impact the level of education people archives if they go to these schools or not and the barriers in place to attend these places? I think it could be interesting to show the comparison of Washington and Kentucky education, especially since I feel the demographics of both areas are pretty similar in some aspect and totally different in others\n",
    "\n",
    "# Data selected for analysis:\n",
    "**What dataset do you plan to use, and why?** \n",
    "    * Governmental data of public schools in Kentucky as well as census data to get a more robust understanding of Kentucky demographics in the scope of education and access\n",
    "**Summarize what is represented in the dataset**\n",
    "    *  KY public education data: Basic statistical information about Kentucky’s schools, including number of schools, number of teachers and students, statewide education funding and other items. Kentucky’s public school system is directed by state statutes and regulations. All numbers listed are for the 2019-2020 school year unless otherwise noted.\n",
    "    Washington & Kentucky Census data: Population, age and sex, race, population characteristics, housing, family & living arrangements, computer & internet use, education, health, economy, transportation, income & poverty, businesses, geography\n",
    "**Link to the dataset: https://education.ky.gov/comm/edfacts/Pages/default.aspx\n",
    "https://www.census.gov/quickfacts/fact/table/KY/EDU635220#qf-headnote-a\n",
    "https://www.census.gov/quickfacts/fact/table/WA/PST045221**\n",
    "for funsie: https://en.wikipedia.org/wiki/List_of_U.S._states_and_territories_by_educational_attainment\n",
    "https://nsba.org/Perspectives/2020/black-students-condition-education (black education rates in US overall)\n",
    "\n",
    "**Explain why this dataset is a suitable one for addressing your research goal listed above**\n",
    "    * I think combining my findings from the census data and the Kentucky education data will be able to give me clear comparison and analysis of black Kentuckians access to education or level of education in KY which is ranked 38th compared to black Washingtonians (wa is ranked 4th in education) I think The census data for both states will be very similar statistics for black people. It also is one of the only public data sources i could find on black education rates in these states\n",
    "**Highlight any possible ethical considerations to using this dataset**\n",
    "    * How is data collected? Is everyone being included/accounted for, other barriers to access to education being considered, census data from 2020\n",
    "\n",
    "# Unknowns and dependencies:\n",
    "Are there any factors outside of your control that might impact your ability to complete this project by the end of the quarter? \n",
    "    * maybe lack of ‘good’ data or deadlines for other classes/work    \n",
    "\n",
    "# A5 project update\n",
    "\n",
    "**Potential research questions:** \n",
    "        What is the impact of a cities demographics on the education of black Kentuckians\n",
    "        do areas with more private schools have higher education rates for black Kentuckians? \n",
    "        what is the percentage of black kids in private vs public school\n",
    "        Demographics of private & public school area versus the amount of black kids in their school\n",
    "        How does this compare to Washington?\n",
    "**Hypothesis:**\n",
    "        Private schools have higher percentage of black kids reaching the highest level of education but have the lowest amounts of black kids attending. (inaccessible learning?)\n",
    "\n",
    "\n",
    "Background and/or Related Work: \n",
    "https://education.ky.gov/comm/edfacts/Pages/default.aspx\n",
    "http://www.localschooldirectory.com/state-schools/KY#state_information_for_public@financial_details\n",
    "funding report: https://apps.legislature.ky.gov/lrc/publications/ResearchReports/RR471U.pdf\n",
    "\n",
    "**What is already known about the phenomenon you are investigating? What previous research on this phenomenon (or related phenomena) has been performed, and what were the findings?**\n",
    "Black and brown students have the lowest graduation and higher education achievements compared to their white counterparts. white Kentuckians: 87.5% Black Kentuckians: 8.5% Hispanic Kentuckians: 3.9% \n",
    "This is a very stark difference in numbers and even more disportioncate in drop out / graduation numbers. Graduation W: 74.2% B: 67.8%\n",
    "\n",
    "**How does previous research or background information inform your decision to perform this study, the way you designed the study, or your specific research questions you chose?** \n",
    "There is extensive KY census data from over the years and many places that collect public school demographics in Kentucky. I am finding a hard time to find open information and demographics of private schools. I might exclude this from my project and just focus on public schools. \n",
    "\n",
    "**Methodology: Describe how you plan to investigate this phenomenon**\n",
    "I plan to collect my data from KY census and education data. Then compare demographics of schools in Kentucky and compare this to the overall graduation and higher education achievements. I want to compare this to the areas the schools are located and the amount of money given to each school by the state/govt. I need to look for a more detailed dataset that holds each schools state designated funding. I will have to do some ground work to connect zip code and school zoning demographics to the demographics of the school. I am focusing on high schools but think including colleges and universities could be interesting in answering my hypothesis and clearly showing the unfair education black kids in Kentucky face.\n",
    "\n",
    "which schools get more money? less? where are they located? whats the demographics and median income of the area?\n",
    "I will use excel and potentially tableau to sort, analyze, and visualize my data into some type of graph or visual aid. \n",
    "I will use one slide to present my findings and show my visualization."
   ]
  },
  {
   "cell_type": "code",
   "execution_count": null,
   "id": "2099dbe4-22fb-4f7e-a6a1-41c66a7f3870",
   "metadata": {},
   "outputs": [],
   "source": []
  },
  {
   "cell_type": "code",
   "execution_count": null,
   "id": "2100bbaa-5094-4bf6-a661-d142c6f473ce",
   "metadata": {},
   "outputs": [],
   "source": []
  }
 ],
 "metadata": {
  "kernelspec": {
   "display_name": "Python 3 (ipykernel)",
   "language": "python",
   "name": "python3"
  },
  "language_info": {
   "codemirror_mode": {
    "name": "ipython",
    "version": 3
   },
   "file_extension": ".py",
   "mimetype": "text/x-python",
   "name": "python",
   "nbconvert_exporter": "python",
   "pygments_lexer": "ipython3",
   "version": "3.9.7"
  }
 },
 "nbformat": 4,
 "nbformat_minor": 5
}
