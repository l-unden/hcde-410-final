{
 "cells": [
  {
   "cell_type": "code",
   "execution_count": 19,
   "id": "45ef4473-02a4-4b2a-a238-92eea3320628",
   "metadata": {},
   "outputs": [],
   "source": [
    "import csv"
   ]
  },
  {
   "cell_type": "code",
   "execution_count": 85,
   "id": "affda5ec-a719-4c3f-833b-2bfd6f0b2274",
   "metadata": {},
   "outputs": [],
   "source": [
    "def prepare_datasets(file_path):\n",
    "    \"\"\" \n",
    "    Accepts: path to a tab-separated plaintext file\n",
    "    Returns: a list containing a dictionary for every row in the file, \n",
    "        with the file column headers as keys\n",
    "    \"\"\"\n",
    "    \n",
    "    with open(file_path) as infile:\n",
    "        reader = csv.DictReader(infile, delimiter=',')\n",
    "        list_of_dicts = [dict(r) for r in reader]\n",
    "        \n",
    "    return list_of_dicts\n"
   ]
  },
  {
   "cell_type": "code",
   "execution_count": 86,
   "id": "f918f5a6-f4cb-4486-9f96-3e6767e6586b",
   "metadata": {},
   "outputs": [],
   "source": [
    "#list of dictionary\n",
    "raw_grad_data = prepare_datasets(\"CLEAN_GRADUATION_RATE.csv\") \n",
    "raw_fund_data = prepare_datasets(\"KY_COUNTY_EXPENDITURES.csv\")"
   ]
  },
  {
   "cell_type": "code",
   "execution_count": null,
   "id": "42ec84b4-fea9-46e0-9cdf-7d39fff1e1b4",
   "metadata": {},
   "outputs": [],
   "source": []
  },
  {
   "cell_type": "code",
   "execution_count": 90,
   "id": "e16ec163-6081-4b64-a1a8-bbe249a7f062",
   "metadata": {},
   "outputs": [],
   "source": [
    "stats = {} #empty dict to hold stats per county\n",
    "curr_county = \"Adair County\"\n",
    "curr_grads = 0 #holder for total grads per county\n",
    "curr_cohort = 0 #holder for total starting cohort per county\n",
    "\n",
    "for item in raw_grad_data: #iterating through graduation data\n",
    "    if item['GRADS4YR'] == '': #setting empty values to 0\n",
    "        item['GRADS4YR'] = 0\n",
    "    if item['GRADS5YR'] == '': #setting empty values to 0\n",
    "        item['GRADS5YR'] = 0\n",
    "\n",
    "    if item['\\ufeffDIST_NAME'] == curr_county: #iterating through values in the same county\n",
    "        #data separates students who took 4 or 5 years to graduate\n",
    "        curr_grads += int(item['GRADS4YR']) + int(item['GRADS5YR']) #combining total graduates for year \n",
    "        curr_cohort += int(item['COHORT4YR']) + int(item['COHORT5YR']) #combining total starting cohort for year\n",
    "\n",
    "    else:\n",
    "        #saves graduation rate and cohort size for the previous county\n",
    "        stats[curr_county] = {'grad_rate': round((curr_grads / curr_cohort) * 100, 1), 'size': curr_cohort}  \n",
    "        curr_county = item['\\ufeffDIST_NAME'] #iterates to next county\n",
    "        curr_grads = int(item['GRADS4YR']) + int(item['GRADS5YR']) #initialize total graduates for year \n",
    "        curr_cohort = int(item['COHORT4YR']) + int(item['COHORT5YR']) #initialize total starting cohort for year\n",
    "\n",
    "\n",
    "stats[curr_county] = {'grad_rate': round((curr_grads / curr_cohort) * 100, 1), 'size': curr_cohort} #saves for last value in stats dict\n",
    "\n",
    "for item in raw_fund_data: #iterating through funding data\n",
    "    if item['\\ufeffDIST_NAME'] in stats: #if matching county already exists in stats dictionary\n",
    "        stats[item['\\ufeffDIST_NAME']]['funding'] = int(item['TOTALEXPENDITURES']) #adds total funding per county \n",
    "        \n",
    "\n"
   ]
  },
  {
   "cell_type": "code",
   "execution_count": null,
   "id": "cdbf1684-30fa-4e3d-9bd9-25871998203c",
   "metadata": {},
   "outputs": [],
   "source": []
  },
  {
   "cell_type": "code",
   "execution_count": 92,
   "id": "d5d4a748-43ed-4c1d-b528-98348a502c1c",
   "metadata": {},
   "outputs": [],
   "source": [
    "with open('data_ouput.csv', 'w', encoding='utf-8') as f:\n",
    "    writer = csv.writer(f)\n",
    "    #write a header row\n",
    "    writer.writerow(('county',\n",
    "                     'graduation_rate', \n",
    "                     'school_county_funding')) \n",
    "    \n",
    "    #loop through our dataset and write it to the file, row by row\n",
    "    for a in stats:\n",
    "        if 'funding' in stats[a]: #only write for rows with funding data\n",
    "            writer.writerow((a, stats[a]['grad_rate'], round(stats[a]['funding']/stats[a]['size']))) \n",
    "            #write county name, graduation rate, and calculate funding per student \n",
    "     \n",
    "        "
   ]
  },
  {
   "cell_type": "code",
   "execution_count": null,
   "id": "e69bbb19-013e-40b2-b0ec-2904de5f95a1",
   "metadata": {},
   "outputs": [],
   "source": []
  }
 ],
 "metadata": {
  "kernelspec": {
   "display_name": "Python 3 (ipykernel)",
   "language": "python",
   "name": "python3"
  },
  "language_info": {
   "codemirror_mode": {
    "name": "ipython",
    "version": 3
   },
   "file_extension": ".py",
   "mimetype": "text/x-python",
   "name": "python",
   "nbconvert_exporter": "python",
   "pygments_lexer": "ipython3",
   "version": "3.9.7"
  }
 },
 "nbformat": 4,
 "nbformat_minor": 5
}
